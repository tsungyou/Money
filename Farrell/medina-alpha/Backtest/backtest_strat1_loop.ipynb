{
 "cells": [
  {
   "cell_type": "code",
   "execution_count": 25,
   "metadata": {},
   "outputs": [],
   "source": [
    "import json\n",
    "with open(\"../Farrell/tw_top100_listed_class.json\", \"r\") as f:\n",
    "    stock_lists = json.load(f)\n",
    "type_ = \"Growth\"\n",
    "stock_list = stock_lists[type_]"
   ]
  },
  {
   "cell_type": "code",
   "execution_count": 26,
   "metadata": {},
   "outputs": [
    {
     "name": "stderr",
     "output_type": "stream",
     "text": [
      "/Users/test/Jimmy/tw-screener/Farrell/medina-alpha/Backtest/functions.py:210: FutureWarning: Setting an item of incompatible dtype is deprecated and will raise an error in a future version of pandas. Value '10068.965517241379' has dtype incompatible with int64, please explicitly cast to a compatible dtype first.\n",
      "  cur[i] = current_open\n",
      "/Users/test/Jimmy/tw-screener/Farrell/medina-alpha/Backtest/functions.py:210: FutureWarning: Setting an item of incompatible dtype is deprecated and will raise an error in a future version of pandas. Value '10053.475935828877' has dtype incompatible with int64, please explicitly cast to a compatible dtype first.\n",
      "  cur[i] = current_open\n",
      "/Users/test/Jimmy/tw-screener/Farrell/medina-alpha/Backtest/functions.py:210: FutureWarning: Setting an item of incompatible dtype is deprecated and will raise an error in a future version of pandas. Value '10162.271805273835' has dtype incompatible with int64, please explicitly cast to a compatible dtype first.\n",
      "  cur[i] = current_open\n",
      "/Users/test/Jimmy/tw-screener/Farrell/medina-alpha/Backtest/functions.py:210: FutureWarning: Setting an item of incompatible dtype is deprecated and will raise an error in a future version of pandas. Value '10364.741641337385' has dtype incompatible with int64, please explicitly cast to a compatible dtype first.\n",
      "  cur[i] = current_open\n",
      "/Users/test/Jimmy/tw-screener/Farrell/medina-alpha/Backtest/functions.py:210: FutureWarning: Setting an item of incompatible dtype is deprecated and will raise an error in a future version of pandas. Value '10177.97556202447' has dtype incompatible with int64, please explicitly cast to a compatible dtype first.\n",
      "  cur[i] = current_open\n",
      "/Users/test/Jimmy/tw-screener/Farrell/medina-alpha/Backtest/functions.py:210: FutureWarning: Setting an item of incompatible dtype is deprecated and will raise an error in a future version of pandas. Value '10180.180180180181' has dtype incompatible with int64, please explicitly cast to a compatible dtype first.\n",
      "  cur[i] = current_open\n",
      "/Users/test/Jimmy/tw-screener/Farrell/medina-alpha/Backtest/functions.py:210: FutureWarning: Setting an item of incompatible dtype is deprecated and will raise an error in a future version of pandas. Value '9939.394093523122' has dtype incompatible with int64, please explicitly cast to a compatible dtype first.\n",
      "  cur[i] = current_open\n",
      "/Users/test/Jimmy/tw-screener/Farrell/medina-alpha/Backtest/functions.py:210: FutureWarning: Setting an item of incompatible dtype is deprecated and will raise an error in a future version of pandas. Value '9948.586118251927' has dtype incompatible with int64, please explicitly cast to a compatible dtype first.\n",
      "  cur[i] = current_open\n",
      "/Users/test/Jimmy/tw-screener/Farrell/medina-alpha/Backtest/functions.py:210: FutureWarning: Setting an item of incompatible dtype is deprecated and will raise an error in a future version of pandas. Value '10228.802816245967' has dtype incompatible with int64, please explicitly cast to a compatible dtype first.\n",
      "  cur[i] = current_open\n",
      "/Users/test/Jimmy/tw-screener/Farrell/medina-alpha/Backtest/functions.py:210: FutureWarning: Setting an item of incompatible dtype is deprecated and will raise an error in a future version of pandas. Value '10155.844155844155' has dtype incompatible with int64, please explicitly cast to a compatible dtype first.\n",
      "  cur[i] = current_open\n",
      "/Users/test/Jimmy/tw-screener/Farrell/medina-alpha/Backtest/functions.py:210: FutureWarning: Setting an item of incompatible dtype is deprecated and will raise an error in a future version of pandas. Value '10176.12516437641' has dtype incompatible with int64, please explicitly cast to a compatible dtype first.\n",
      "  cur[i] = current_open\n",
      "/Users/test/Jimmy/tw-screener/Farrell/medina-alpha/Backtest/functions.py:210: FutureWarning: Setting an item of incompatible dtype is deprecated and will raise an error in a future version of pandas. Value '9980.62015503876' has dtype incompatible with int64, please explicitly cast to a compatible dtype first.\n",
      "  cur[i] = current_open\n",
      "/Users/test/Jimmy/tw-screener/Farrell/medina-alpha/Backtest/functions.py:210: FutureWarning: Setting an item of incompatible dtype is deprecated and will raise an error in a future version of pandas. Value '9956.896551724138' has dtype incompatible with int64, please explicitly cast to a compatible dtype first.\n",
      "  cur[i] = current_open\n",
      "/Users/test/Jimmy/tw-screener/Farrell/medina-alpha/Backtest/functions.py:210: FutureWarning: Setting an item of incompatible dtype is deprecated and will raise an error in a future version of pandas. Value '10140.845070422534' has dtype incompatible with int64, please explicitly cast to a compatible dtype first.\n",
      "  cur[i] = current_open\n",
      "/Users/test/Jimmy/tw-screener/Farrell/medina-alpha/Backtest/functions.py:210: FutureWarning: Setting an item of incompatible dtype is deprecated and will raise an error in a future version of pandas. Value '9979.508196721312' has dtype incompatible with int64, please explicitly cast to a compatible dtype first.\n",
      "  cur[i] = current_open\n",
      "/Users/test/Jimmy/tw-screener/Farrell/medina-alpha/Backtest/functions.py:210: FutureWarning: Setting an item of incompatible dtype is deprecated and will raise an error in a future version of pandas. Value '9869.791666666666' has dtype incompatible with int64, please explicitly cast to a compatible dtype first.\n",
      "  cur[i] = current_open\n",
      "/Users/test/Jimmy/tw-screener/Farrell/medina-alpha/Backtest/functions.py:210: FutureWarning: Setting an item of incompatible dtype is deprecated and will raise an error in a future version of pandas. Value '10098.038736979166' has dtype incompatible with int64, please explicitly cast to a compatible dtype first.\n",
      "  cur[i] = current_open\n",
      "/Users/test/Jimmy/tw-screener/Farrell/medina-alpha/Backtest/functions.py:210: FutureWarning: Setting an item of incompatible dtype is deprecated and will raise an error in a future version of pandas. Value '10465.116279069769' has dtype incompatible with int64, please explicitly cast to a compatible dtype first.\n",
      "  cur[i] = current_open\n",
      "/Users/test/Jimmy/tw-screener/Farrell/medina-alpha/Backtest/functions.py:210: FutureWarning: Setting an item of incompatible dtype is deprecated and will raise an error in a future version of pandas. Value '10141.509433962263' has dtype incompatible with int64, please explicitly cast to a compatible dtype first.\n",
      "  cur[i] = current_open\n",
      "/Users/test/Jimmy/tw-screener/Farrell/medina-alpha/Backtest/functions.py:210: FutureWarning: Setting an item of incompatible dtype is deprecated and will raise an error in a future version of pandas. Value '10057.803468208092' has dtype incompatible with int64, please explicitly cast to a compatible dtype first.\n",
      "  cur[i] = current_open\n",
      "/Users/test/Jimmy/tw-screener/Farrell/medina-alpha/Backtest/functions.py:210: FutureWarning: Setting an item of incompatible dtype is deprecated and will raise an error in a future version of pandas. Value '9900.990099009901' has dtype incompatible with int64, please explicitly cast to a compatible dtype first.\n",
      "  cur[i] = current_open\n",
      "/Users/test/Jimmy/tw-screener/Farrell/medina-alpha/Backtest/functions.py:210: FutureWarning: Setting an item of incompatible dtype is deprecated and will raise an error in a future version of pandas. Value '9984.05111520712' has dtype incompatible with int64, please explicitly cast to a compatible dtype first.\n",
      "  cur[i] = current_open\n",
      "/Users/test/Jimmy/tw-screener/Farrell/medina-alpha/Backtest/functions.py:210: FutureWarning: Setting an item of incompatible dtype is deprecated and will raise an error in a future version of pandas. Value '9925.650557620818' has dtype incompatible with int64, please explicitly cast to a compatible dtype first.\n",
      "  cur[i] = current_open\n",
      "/Users/test/Jimmy/tw-screener/Farrell/medina-alpha/Backtest/functions.py:210: FutureWarning: Setting an item of incompatible dtype is deprecated and will raise an error in a future version of pandas. Value '10115.473441108545' has dtype incompatible with int64, please explicitly cast to a compatible dtype first.\n",
      "  cur[i] = current_open\n",
      "/Users/test/Jimmy/tw-screener/Farrell/medina-alpha/Backtest/functions.py:210: FutureWarning: Setting an item of incompatible dtype is deprecated and will raise an error in a future version of pandas. Value '10069.930069930071' has dtype incompatible with int64, please explicitly cast to a compatible dtype first.\n",
      "  cur[i] = current_open\n",
      "/Users/test/Jimmy/tw-screener/Farrell/medina-alpha/Backtest/functions.py:210: FutureWarning: Setting an item of incompatible dtype is deprecated and will raise an error in a future version of pandas. Value '10053.050397877985' has dtype incompatible with int64, please explicitly cast to a compatible dtype first.\n",
      "  cur[i] = current_open\n",
      "/Users/test/Jimmy/tw-screener/Farrell/medina-alpha/Backtest/functions.py:210: FutureWarning: Setting an item of incompatible dtype is deprecated and will raise an error in a future version of pandas. Value '10024.691358024691' has dtype incompatible with int64, please explicitly cast to a compatible dtype first.\n",
      "  cur[i] = current_open\n",
      "/Users/test/Jimmy/tw-screener/Farrell/medina-alpha/Backtest/functions.py:210: FutureWarning: Setting an item of incompatible dtype is deprecated and will raise an error in a future version of pandas. Value '9974.424552429668' has dtype incompatible with int64, please explicitly cast to a compatible dtype first.\n",
      "  cur[i] = current_open\n",
      "/Users/test/Jimmy/tw-screener/Farrell/medina-alpha/Backtest/functions.py:210: FutureWarning: Setting an item of incompatible dtype is deprecated and will raise an error in a future version of pandas. Value '9543.859649122807' has dtype incompatible with int64, please explicitly cast to a compatible dtype first.\n",
      "  cur[i] = current_open\n",
      "/Users/test/Jimmy/tw-screener/Farrell/medina-alpha/Backtest/functions.py:210: FutureWarning: Setting an item of incompatible dtype is deprecated and will raise an error in a future version of pandas. Value '10181.159420289856' has dtype incompatible with int64, please explicitly cast to a compatible dtype first.\n",
      "  cur[i] = current_open\n",
      "/Users/test/Jimmy/tw-screener/Farrell/medina-alpha/Backtest/functions.py:210: FutureWarning: Setting an item of incompatible dtype is deprecated and will raise an error in a future version of pandas. Value '9681.697612732096' has dtype incompatible with int64, please explicitly cast to a compatible dtype first.\n",
      "  cur[i] = current_open\n",
      "/Users/test/Jimmy/tw-screener/Farrell/medina-alpha/Backtest/functions.py:210: FutureWarning: Setting an item of incompatible dtype is deprecated and will raise an error in a future version of pandas. Value '9863.013488173952' has dtype incompatible with int64, please explicitly cast to a compatible dtype first.\n",
      "  cur[i] = current_open\n",
      "/Users/test/Jimmy/tw-screener/Farrell/medina-alpha/Backtest/functions.py:210: FutureWarning: Setting an item of incompatible dtype is deprecated and will raise an error in a future version of pandas. Value '10320.284870849335' has dtype incompatible with int64, please explicitly cast to a compatible dtype first.\n",
      "  cur[i] = current_open\n",
      "/Users/test/Jimmy/tw-screener/Farrell/medina-alpha/Backtest/functions.py:210: FutureWarning: Setting an item of incompatible dtype is deprecated and will raise an error in a future version of pandas. Value '9449.54128440367' has dtype incompatible with int64, please explicitly cast to a compatible dtype first.\n",
      "  cur[i] = current_open\n"
     ]
    }
   ],
   "source": [
    "import pandas as pd\n",
    "from functions import data_strat1, nav_returns_backtest_only\n",
    "from datetime import datetime, timedelta\n",
    "start = \"2023-01-01\"\n",
    "end = '2024-01-01'\n",
    "# end=datetime.now()\n",
    "returns = []\n",
    "winrates = []\n",
    "avg_ret = []\n",
    "trade_total = []\n",
    "last_open_date = []\n",
    "last_open_price = []\n",
    "tickers = []\n",
    "df_final = pd.DataFrame()\n",
    "for ticker in stock_list:\n",
    "    ticker_bar = ticker.replace(\".\", \"_\")\n",
    "    df = data_strat1(f\"{ticker_bar}\", start, end)\n",
    "\n",
    "    return_total, winrate, avg_return, trades, last_openposition_date, last_openposition_price = nav_returns_backtest_only(df)\n",
    "    returns.append(return_total)\n",
    "    winrates.append(winrate)\n",
    "    avg_ret.append(avg_return)\n",
    "    trade_total.append(trades)\n",
    "    tickers.append(ticker[:4])\n",
    "    # last_open_date.append(df.index[last_openposition_date])\n",
    "    last_open_price.append(last_openposition_price)\n",
    "df_final['ticker'] = tickers\n",
    "df_final['return_total'] = returns\n",
    "df_final['winrate'] = winrates\n",
    "df_final['avg_return'] = avg_ret\n",
    "df_final['trade_total'] = trade_total\n",
    "# df_final['last_openposition_date'] = last_open_date\n",
    "df_final['last_openposition_price'] = last_open_price\n",
    "df_final.to_csv(f\"../Backtest_result/{type_}_2023.csv\")"
   ]
  },
  {
   "cell_type": "code",
   "execution_count": 27,
   "metadata": {},
   "outputs": [
    {
     "data": {
      "text/plain": [
       "(12, 8, 2, 1, 1)"
      ]
     },
     "execution_count": 27,
     "metadata": {},
     "output_type": "execute_result"
    }
   ],
   "source": [
    "return_1 = list(df_final[df_final['return_total'] > 0.1]['ticker'])\n",
    "return_2 = list(df_final[df_final['return_total'] > 0.2]['ticker'])\n",
    "return_3 = list(df_final[df_final['return_total'] > 0.3]['ticker'])\n",
    "return_4 = list(df_final[df_final['return_total'] > 0.4]['ticker'])\n",
    "return_5 = list(df_final[df_final['return_total'] > 0.5]['ticker'])\n",
    "len(return_1), len(return_2), len(return_3), len(return_4), len(return_5)"
   ]
  },
  {
   "cell_type": "code",
   "execution_count": 28,
   "metadata": {},
   "outputs": [
    {
     "data": {
      "text/plain": [
       "(0.07047300528681866, 0.5069327731092437)"
      ]
     },
     "execution_count": 28,
     "metadata": {},
     "output_type": "execute_result"
    }
   ],
   "source": [
    "df_final['return_total'].mean(), df_final['winrate'].mean()\n"
   ]
  },
  {
   "cell_type": "code",
   "execution_count": null,
   "metadata": {},
   "outputs": [],
   "source": []
  }
 ],
 "metadata": {
  "kernelspec": {
   "display_name": ".env",
   "language": "python",
   "name": "python3"
  },
  "language_info": {
   "codemirror_mode": {
    "name": "ipython",
    "version": 3
   },
   "file_extension": ".py",
   "mimetype": "text/x-python",
   "name": "python",
   "nbconvert_exporter": "python",
   "pygments_lexer": "ipython3",
   "version": "3.11.9"
  }
 },
 "nbformat": 4,
 "nbformat_minor": 2
}
