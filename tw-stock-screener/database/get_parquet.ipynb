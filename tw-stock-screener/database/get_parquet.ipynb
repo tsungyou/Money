{
 "cells": [
  {
   "cell_type": "code",
   "execution_count": null,
   "metadata": {},
   "outputs": [],
   "source": [
    "import pandas as pd\n",
    "import yfinance as yf\n",
    "df = pd.read_csv(\"tw_stock_list.csv\")\n",
    "market = df['market']\n",
    "for ticker in market:\n",
    "    ticker_bar = ticker.replace('.', \"_\")\n",
    "    temp = yf.download(ticker, progress=False, interval='1d')\n",
    "    print(ticker_bar)\n",
    "    temp.to_parquet(f\"{ticker_bar}.parquet\", engine='fastparquet')\n",
    "# [2456, 4152, 6238, 4947, 8406, 5264, 8480, 3089, 8427, 4180, 8497, 1507]"
   ]
  },
  {
   "cell_type": "code",
   "execution_count": null,
   "metadata": {},
   "outputs": [],
   "source": [
    "import pandas as pd\n",
    "import yfinance as yf\n",
    "df = pd.read_csv(\"tw_stock_list.csv\")\n",
    "market = df['market']\n",
    "df_price =  pd.DataFrame()\n",
    "for ticker in market:\n",
    "    temp = yf.download(ticker, start='2024-01-01', end=\"2024-05-01\", progress=False, interval='1d')\n",
    "    temp['ticker_market'] = ticker\n",
    "    temp['ticker'] = ticker[:4]\n",
    "    df_price = pd.concat([df_price, temp], axis=1)\n",
    "    \n",
    "    print(ticker)\n",
    "\n",
    "df_price.to_parquet(\"stock_price_2024_01_04.parquet\", engine=\"fastparquet\")\n"
   ]
  }
 ],
 "metadata": {
  "kernelspec": {
   "display_name": ".env",
   "language": "python",
   "name": "python3"
  },
  "language_info": {
   "codemirror_mode": {
    "name": "ipython",
    "version": 3
   },
   "file_extension": ".py",
   "mimetype": "text/x-python",
   "name": "python",
   "nbconvert_exporter": "python",
   "pygments_lexer": "ipython3",
   "version": "3.11.9"
  }
 },
 "nbformat": 4,
 "nbformat_minor": 2
}
