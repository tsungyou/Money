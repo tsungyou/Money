{
 "cells": [
  {
   "cell_type": "code",
   "execution_count": null,
   "metadata": {},
   "outputs": [],
   "source": [
    "import pandas as pd\n",
    "import yfinance as yf\n",
    "df = pd.read_csv(\"tw_stock_list.csv\")\n",
    "market = df['market']\n",
    "for ticker in market:\n",
    "    ticker_bar = ticker.replace('.', \"_\")\n",
    "    temp = yf.download(ticker, progress=False, interval='1d')\n",
    "    print(ticker_bar)\n",
    "    temp.to_parquet(f\"{ticker_bar}.parquet\", engine='fastparquet')\n",
    "# [2456, 4152, 6238, 4947, 8406, 5264, 8480, 3089, 8427, 4180, 8497, 1507]"
   ]
  },
  {
   "cell_type": "code",
   "execution_count": null,
   "metadata": {},
   "outputs": [],
   "source": [
    "import pandas as pd\n",
    "import yfinance as yf\n",
    "df = pd.read_csv(\"tw_stock_list.csv\")\n",
    "market = df['market']\n",
    "df_price =  pd.DataFrame()\n",
    "for ticker in market:\n",
    "    temp = yf.download(ticker, start='2024-01-01', end=\"2024-05-01\", progress=False, interval='1d')\n",
    "    temp['ticker_market'] = ticker\n",
    "    temp['ticker'] = ticker[:4]\n",
    "    df_price = pd.concat([df_price, temp], axis=1)\n",
    "    \n",
    "    print(ticker)\n",
    "\n",
    "df_price.to_parquet(\"stock_price_2024_01_04.parquet\", engine=\"fastparquet\")\n"
   ]
  },
  {
   "cell_type": "code",
   "execution_count": 1,
   "metadata": {},
   "outputs": [
    {
     "name": "stdout",
     "output_type": "stream",
     "text": [
      "                  Open        High         Low       Close   Adj Close  \\\n",
      "Date                                                                     \n",
      "2021-01-12   24.000000   27.918367   24.000000   27.714285   26.841757   \n",
      "2021-01-13   27.469387   28.734694   26.775511   28.693876   27.790508   \n",
      "2021-01-14   28.979591   32.897961   28.734694   32.816326   31.783171   \n",
      "2021-01-15   32.938774   34.693878   32.857143   34.285713   33.206295   \n",
      "2021-01-18   34.408161   36.938774   30.244898   31.551020   30.557701   \n",
      "...                ...         ...         ...         ...         ...   \n",
      "2024-04-25  122.500000  125.000000  120.000000  120.000000  120.000000   \n",
      "2024-04-26  121.500000  124.000000  118.500000  119.000000  119.000000   \n",
      "2024-04-29  118.000000  121.500000  117.000000  119.000000  119.000000   \n",
      "2024-04-30  119.500000  121.000000  117.000000  117.000000  117.000000   \n",
      "2024-05-02  117.000000  117.500000  114.000000  115.500000  115.500000   \n",
      "\n",
      "             Volume  \n",
      "Date                 \n",
      "2021-01-12   687169  \n",
      "2021-01-13   602089  \n",
      "2021-01-14   872904  \n",
      "2021-01-15  1012232  \n",
      "2021-01-18   663935  \n",
      "...             ...  \n",
      "2024-04-25  4031745  \n",
      "2024-04-26  1846850  \n",
      "2024-04-29  1323223  \n",
      "2024-04-30  1143296  \n",
      "2024-05-02   811796  \n",
      "\n",
      "[799 rows x 6 columns]\n"
     ]
    }
   ],
   "source": [
    "import pandas as pd\n",
    "a = pd.read_parquet(\"../6753_TW.parquet\")\n",
    "print(a)"
   ]
  }
 ],
 "metadata": {
  "kernelspec": {
   "display_name": ".env",
   "language": "python",
   "name": "python3"
  },
  "language_info": {
   "codemirror_mode": {
    "name": "ipython",
    "version": 3
   },
   "file_extension": ".py",
   "mimetype": "text/x-python",
   "name": "python",
   "nbconvert_exporter": "python",
   "pygments_lexer": "ipython3",
   "version": "3.11.9"
  }
 },
 "nbformat": 4,
 "nbformat_minor": 2
}
