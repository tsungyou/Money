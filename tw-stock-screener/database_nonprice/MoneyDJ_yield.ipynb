{
 "cells": [
  {
   "cell_type": "code",
   "execution_count": 28,
   "metadata": {},
   "outputs": [
    {
     "name": "stderr",
     "output_type": "stream",
     "text": [
      "/var/folders/zc/_sy5126x4ks5w74_nsrx_mv40000gp/T/ipykernel_91560/2499325396.py:5: FutureWarning: Passing literal html to 'read_html' is deprecated and will be removed in a future version. To read from a literal string, wrap it in a 'StringIO' object.\n",
      "  df = pd.read_html(res.text)\n"
     ]
    }
   ],
   "source": [
    "import requests\n",
    "import pandas as pd\n",
    "import yfinance as yf\n",
    "res = requests.get(\"https://www.moneydj.com/Z/ZG/ZGL/ZGL.djhtm\")\n",
    "df = pd.read_html(res.text)\n",
    "dfy = df[1]\n",
    "dfy = dfy.iloc[3:, [0, 1, 2, 3, 4, 9]]\n",
    "dfy.columns = ['rank', \"name\", \"yield\", \"guri\", \"date\", \"close\"]\n",
    "dfy['codename'] = dfy['name'].apply(lambda x: x.split(\"(\")[1].split(\"'\")[1][2:])\n",
    "dfy['ticker'] = dfy['name'].apply(lambda x: x.split(\"(\")[1].split(\"'\")[3])\n",
    "dfy.drop(\"name\", axis=1, inplace=True)\n",
    "dfy.to_parquet(\"yield_top100_20240502.parquet\")"
   ]
  }
 ],
 "metadata": {
  "kernelspec": {
   "display_name": ".env",
   "language": "python",
   "name": "python3"
  },
  "language_info": {
   "codemirror_mode": {
    "name": "ipython",
    "version": 3
   },
   "file_extension": ".py",
   "mimetype": "text/x-python",
   "name": "python",
   "nbconvert_exporter": "python",
   "pygments_lexer": "ipython3",
   "version": "3.11.9"
  }
 },
 "nbformat": 4,
 "nbformat_minor": 2
}
