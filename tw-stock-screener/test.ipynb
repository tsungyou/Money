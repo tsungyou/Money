{
 "cells": [
  {
   "cell_type": "markdown",
   "metadata": {},
   "source": [
    "爆大量，超平台，當天上漲\n",
    "\n",
    "第二步：\n",
    "\n",
    "爆大量後回檔，超平台，當天上漲"
   ]
  },
  {
   "cell_type": "code",
   "execution_count": 1,
   "metadata": {},
   "outputs": [],
   "source": [
    "from functions import strat1_vol_surge_cor_dd"
   ]
  }
 ],
 "metadata": {
  "kernelspec": {
   "display_name": ".env",
   "language": "python",
   "name": "python3"
  },
  "language_info": {
   "codemirror_mode": {
    "name": "ipython",
    "version": 3
   },
   "file_extension": ".py",
   "mimetype": "text/x-python",
   "name": "python",
   "nbconvert_exporter": "python",
   "pygments_lexer": "ipython3",
   "version": "3.11.9"
  }
 },
 "nbformat": 4,
 "nbformat_minor": 2
}
