{
 "cells": [
  {
   "cell_type": "code",
   "execution_count": 1,
   "metadata": {},
   "outputs": [
    {
     "name": "stdout",
     "output_type": "stream",
     "text": [
      " 2019 20\n",
      "no symbol existed\n"
     ]
    },
    {
     "name": "stderr",
     "output_type": "stream",
     "text": [
      "2024-06-09 18:03:22.069 Python[4527:109655] TSM AdjustCapsLockLEDForKeyTransitionHandling - _ISSetPhysicalKeyboardCapsLockLED Inhibit\n",
      "Exception in Tkinter callback\n",
      "Traceback (most recent call last):\n",
      "  File \"/Library/Frameworks/Python.framework/Versions/3.11/lib/python3.11/tkinter/__init__.py\", line 1967, in __call__\n",
      "    return self.func(*args)\n",
      "           ^^^^^^^^^^^^^^^^\n",
      "  File \"/Users/test/Jimmy/tw-screener/tkinter/src/Strategy.py\", line 58, in on_factor_click\n",
      "    self.textbox.insert('end', data[factor_name] + '\\n')\n",
      "                               ~~~~^^^^^^^^^^^^^\n",
      "KeyError: 'nan'\n"
     ]
    },
    {
     "name": "stdout",
     "output_type": "stream",
     "text": [
      "Factors  FFT_1Y_LR_M  ARIMA_1Y_PCT_M_AROPT  MA20_strat1  NaN  unnamed, 7052\n",
      "Return         100.0                 120.0         13.0  0.0              0\n",
      "Sharpe           1.5                   1.7          0.8  0.0              0\n",
      "CAGR            10.0                  10.0          2.0  0.0              0\n",
      "MDD             12.0                  13.0         20.0  0.0              0\n"
     ]
    },
    {
     "name": "stderr",
     "output_type": "stream",
     "text": [
      "Exception in Tkinter callback\n",
      "Traceback (most recent call last):\n",
      "  File \"/Library/Frameworks/Python.framework/Versions/3.11/lib/python3.11/tkinter/__init__.py\", line 1967, in __call__\n",
      "    return self.func(*args)\n",
      "           ^^^^^^^^^^^^^^^^\n",
      "  File \"/Library/Frameworks/Python.framework/Versions/3.11/lib/python3.11/site-packages/customtkinter/windows/widgets/ctk_button.py\", line 554, in _clicked\n",
      "    self._command()\n",
      "  File \"/Users/test/Jimmy/tw-screener/tkinter/src/Backtester.py\", line 113, in generate_strategy\n",
      "    self.plotting(cumsum)\n",
      "  File \"/Users/test/Jimmy/tw-screener/tkinter/src/Backtester.py\", line 172, in plotting\n",
      "    self.canvas.get_tk_widget().grid(row=2, column=0, columnspan=0, pady=5)\n",
      "  File \"/Library/Frameworks/Python.framework/Versions/3.11/lib/python3.11/tkinter/__init__.py\", line 2568, in grid_configure\n",
      "    self.tk.call(\n",
      "_tkinter.TclError: bad columnspan value \"0\": must be a positive integer\n"
     ]
    }
   ],
   "source": [
    "import customtkinter as ctk\n",
    "from src.Searcher import Searcher\n",
    "from src.Backtester import Backtester\n",
    "from src.Scraper import Scraper\n",
    "from src.Strategy import Strategy\n",
    "\n",
    "class App(ctk.CTk):\n",
    "    def __init__(self, *args, **kwargs):\n",
    "        super().__init__(*args, **kwargs)\n",
    "        \n",
    "        self.title(\"Stock Manager\")\n",
    "        self.geometry(\"1920x1080\")\n",
    "\n",
    "        # Create a Tabview\n",
    "        self.tabview = ctk.CTkTabview(self)\n",
    "        self.tabview.pack(expand=True, fill='both')\n",
    "\n",
    "\n",
    "        # Add tabs\n",
    "        self.tabview.add(\"代號搜尋\")\n",
    "        self.tabview.add(\"單日漲跌幅\")\n",
    "\n",
    "        self.tabview.add(\"策略因子\")\n",
    "        self.tabview.add(\"回測平台\")\n",
    "        # Create and place pages inside tabs\n",
    "        self.home_page = Searcher(self.tabview.tab(\"代號搜尋\"))\n",
    "        self.home_page.pack(expand=True, fill='both')\n",
    "        \n",
    "\n",
    "        self.stock_info_page = Scraper(self.tabview.tab(\"單日漲跌幅\"))\n",
    "        self.stock_info_page.pack(expand=True, fill='both')\n",
    "\n",
    "        self.portfolio_page = Strategy(self.tabview.tab(\"策略因子\"))\n",
    "        self.portfolio_page.pack(expand=True, fill='both')\n",
    "        \n",
    "        self.settings_page = Backtester(self.tabview.tab(\"回測平台\"))\n",
    "        self.settings_page.pack(expand=True, fill='both')\n",
    "    \n",
    "        self.protocol(\"WM_DELETE_WINDOW\", self.on_exit)\n",
    "\n",
    "    def on_exit(self):\n",
    "        self.destroy()\n",
    "        self.quit()\n",
    "        \n",
    "if __name__ == \"__main__\":\n",
    "    app = App()\n",
    "    app.mainloop()\n",
    "\n"
   ]
  }
 ],
 "metadata": {
  "kernelspec": {
   "display_name": "Python 3",
   "language": "python",
   "name": "python3"
  },
  "language_info": {
   "codemirror_mode": {
    "name": "ipython",
    "version": 3
   },
   "file_extension": ".py",
   "mimetype": "text/x-python",
   "name": "python",
   "nbconvert_exporter": "python",
   "pygments_lexer": "ipython3",
   "version": "3.11.9"
  }
 },
 "nbformat": 4,
 "nbformat_minor": 2
}
