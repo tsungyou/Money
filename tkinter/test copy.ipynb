{
 "cells": [
  {
   "cell_type": "code",
   "execution_count": 1,
   "metadata": {},
   "outputs": [
    {
     "name": "stdout",
     "output_type": "stream",
     "text": [
      " 2019 20\n"
     ]
    },
    {
     "name": "stderr",
     "output_type": "stream",
     "text": [
      "2024-06-09 17:25:40.540 Python[3703:92209] TSM AdjustCapsLockLEDForKeyTransitionHandling - _ISSetPhysicalKeyboardCapsLockLED Inhibit\n"
     ]
    },
    {
     "name": "stdout",
     "output_type": "stream",
     "text": [
      "Date\n",
      "2013-01-30     0.014889\n",
      "2013-01-31     0.031957\n",
      "2013-02-01     0.061612\n",
      "2013-02-04     0.076340\n",
      "2013-02-05     0.085118\n",
      "                ...    \n",
      "2024-06-03    35.744206\n",
      "2024-06-04    35.755970\n",
      "2024-06-05    35.764606\n",
      "2024-06-06    35.775127\n",
      "2024-06-07    35.787651\n",
      "Length: 2772, dtype: float64\n"
     ]
    },
    {
     "ename": "",
     "evalue": "",
     "output_type": "error",
     "traceback": [
      "\u001b[1;31mThe Kernel crashed while executing code in the current cell or a previous cell. \n",
      "\u001b[1;31mPlease review the code in the cell(s) to identify a possible cause of the failure. \n",
      "\u001b[1;31mClick <a href='https://aka.ms/vscodeJupyterKernelCrash'>here</a> for more info. \n",
      "\u001b[1;31mView Jupyter <a href='command:jupyter.viewOutput'>log</a> for further details."
     ]
    }
   ],
   "source": [
    "import customtkinter as ctk\n",
    "from src.Searcher import Searcher\n",
    "from src.Backtester import Backtester\n",
    "from src.Scraper import Scraper\n",
    "from src.Strategy import Strategy\n",
    "\n",
    "class App(ctk.CTk):\n",
    "    def __init__(self, *args, **kwargs):\n",
    "        super().__init__(*args, **kwargs)\n",
    "        \n",
    "        self.title(\"Stock Manager\")\n",
    "        self.geometry(\"1920x1080\")\n",
    "\n",
    "        # Create a Tabview\n",
    "        self.tabview = ctk.CTkTabview(self)\n",
    "        self.tabview.pack(expand=True, fill='both')\n",
    "\n",
    "\n",
    "        # Add tabs\n",
    "        self.tabview.add(\"代號搜尋\")\n",
    "        self.tabview.add(\"單日漲跌幅\")\n",
    "\n",
    "        self.tabview.add(\"策略因子\")\n",
    "        self.tabview.add(\"回測平台\")\n",
    "        # Create and place pages inside tabs\n",
    "        self.home_page = Searcher(self.tabview.tab(\"代號搜尋\"))\n",
    "        self.home_page.pack(expand=True, fill='both')\n",
    "        \n",
    "\n",
    "        self.stock_info_page = Scraper(self.tabview.tab(\"單日漲跌幅\"))\n",
    "        self.stock_info_page.pack(expand=True, fill='both')\n",
    "\n",
    "        self.portfolio_page = Strategy(self.tabview.tab(\"策略因子\"))\n",
    "        self.portfolio_page.pack(expand=True, fill='both')\n",
    "        \n",
    "        self.settings_page = Backtester(self.tabview.tab(\"回測平台\"))\n",
    "        self.settings_page.pack(expand=True, fill='both')\n",
    "    \n",
    "        self.protocol(\"WM_DELETE_WINDOW\", self.on_exit)\n",
    "\n",
    "    def on_exit(self):\n",
    "        self.destroy()\n",
    "        self.quit()\n",
    "        \n",
    "if __name__ == \"__main__\":\n",
    "    app = App()\n",
    "    app.mainloop()\n",
    "\n"
   ]
  }
 ],
 "metadata": {
  "kernelspec": {
   "display_name": "Python 3",
   "language": "python",
   "name": "python3"
  },
  "language_info": {
   "codemirror_mode": {
    "name": "ipython",
    "version": 3
   },
   "file_extension": ".py",
   "mimetype": "text/x-python",
   "name": "python",
   "nbconvert_exporter": "python",
   "pygments_lexer": "ipython3",
   "version": "3.11.9"
  }
 },
 "nbformat": 4,
 "nbformat_minor": 2
}
