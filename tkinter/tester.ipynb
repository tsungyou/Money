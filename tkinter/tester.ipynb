{
 "cells": [
  {
   "cell_type": "code",
   "execution_count": 7,
   "metadata": {},
   "outputs": [
    {
     "data": {
      "text/html": [
       "<div>\n",
       "<style scoped>\n",
       "    .dataframe tbody tr th:only-of-type {\n",
       "        vertical-align: middle;\n",
       "    }\n",
       "\n",
       "    .dataframe tbody tr th {\n",
       "        vertical-align: top;\n",
       "    }\n",
       "\n",
       "    .dataframe thead th {\n",
       "        text-align: right;\n",
       "    }\n",
       "</style>\n",
       "<table border=\"1\" class=\"dataframe\">\n",
       "  <thead>\n",
       "    <tr style=\"text-align: right;\">\n",
       "      <th>Factors</th>\n",
       "      <th>FFT_1Y_LR_M</th>\n",
       "      <th>ARIMA_1Y_PCT_M_AROPT</th>\n",
       "      <th>MA20_strat1</th>\n",
       "    </tr>\n",
       "  </thead>\n",
       "  <tbody>\n",
       "    <tr>\n",
       "      <th>Return</th>\n",
       "      <td>100.0</td>\n",
       "      <td>120.0</td>\n",
       "      <td>13.0</td>\n",
       "    </tr>\n",
       "    <tr>\n",
       "      <th>Sharpe</th>\n",
       "      <td>1.5</td>\n",
       "      <td>1.7</td>\n",
       "      <td>0.8</td>\n",
       "    </tr>\n",
       "    <tr>\n",
       "      <th>CAGR</th>\n",
       "      <td>10.0</td>\n",
       "      <td>10.0</td>\n",
       "      <td>2.0</td>\n",
       "    </tr>\n",
       "    <tr>\n",
       "      <th>MDD</th>\n",
       "      <td>12.0</td>\n",
       "      <td>13.0</td>\n",
       "      <td>20.0</td>\n",
       "    </tr>\n",
       "  </tbody>\n",
       "</table>\n",
       "</div>"
      ],
      "text/plain": [
       "Factors  FFT_1Y_LR_M  ARIMA_1Y_PCT_M_AROPT  MA20_strat1\n",
       "Return         100.0                 120.0         13.0\n",
       "Sharpe           1.5                   1.7          0.8\n",
       "CAGR            10.0                  10.0          2.0\n",
       "MDD             12.0                  13.0         20.0"
      ]
     },
     "execution_count": 7,
     "metadata": {},
     "output_type": "execute_result"
    }
   ],
   "source": [
    "import pandas as pd\n",
    "a = pd.read_csv('src/factors_table.csv', index_col = 0)\n",
    "a.T"
   ]
  },
  {
   "cell_type": "code",
   "execution_count": 1,
   "metadata": {},
   "outputs": [],
   "source": [
    "import pandas as pd\n",
    "close = pd.read_parquet('database/Adj_close.parquet')\n",
    "df = close[close.index >= '2013-01-01']\n",
    "df = df.dropna(how='all', axis=1)\n",
    "df = df.dropna(how='all', axis=0)\n"
   ]
  },
  {
   "cell_type": "code",
   "execution_count": 60,
   "metadata": {},
   "outputs": [],
   "source": [
    "ma20 = df.rolling(window=20).mean()\n",
    "diff_ma20 = df/ma20 - 1\n",
    "diff_ma20.dropna(how='all', axis=0, inplace=True)\n",
    "diff_ma20\n",
    "# def get_demean_weighting(self, data):\n",
    "df1 = diff_ma20.dropna(axis='columns', how='all').copy()\n",
    "demean = df1.sub(df1.mean(axis=1), axis=0)\n",
    "weighting = demean.div(demean.abs().sum(axis=1), axis=0)\n",
    "\n",
    "import matplotlib.pyplot as plt"
   ]
  },
  {
   "cell_type": "code",
   "execution_count": 72,
   "metadata": {},
   "outputs": [
    {
     "data": {
      "text/plain": [
       "[<matplotlib.lines.Line2D at 0x12557c990>]"
      ]
     },
     "execution_count": 72,
     "metadata": {},
     "output_type": "execute_result"
    },
    {
     "data": {
      "image/png": "[encoded data removed]",
      "text/plain": [
       "<Figure size 640x480 with 1 Axes>"
      ]
     },
     "metadata": {},
     "output_type": "display_data"
    }
   ],
   "source": [
    "pct_change = close[close.index >= weighting.index[0]].pct_change(fill_method=None)\n",
    "pct_change_shift1 = pct_change.shift(-1)\n",
    "pct_change_lag1 = pct_change.shift(0)\n",
    "\n",
    "def get_cumsum(weighting_da, pct_change_shift1):\n",
    "\n",
    "    pct_change_shift1.dropna(how='all', axis=0, inplace=True)\n",
    "    weighting_da = weighting[weighting.index >= pct_change_shift1.index[0]]\n",
    "    nav_df = (weighting_da * pct_change_shift1)\n",
    "    nav = nav_df.sum(axis=1)\n",
    "    \n",
    "    # remove abnormal returns\n",
    "    average = np.mean(nav)\n",
    "    std = np.std(nav)\n",
    "    nav.loc[nav[nav > average + 3*std].index] = 0\n",
    "    cumsum = nav.cumsum()\n",
    "    return cumsum\n",
    "\n",
    "cumsum_close_buyin = get_cumsum(weighting_da, pct_change_shift1)\n",
    "cumsum_close_lag1_buyin = get_cumsum(weighting_da, pct_change_lag1)\n",
    "plt.plot(cumsum_close_lag1_buyin)"
   ]
  }
 ],
 "metadata": {
  "kernelspec": {
   "display_name": "Python 3",
   "language": "python",
   "name": "python3"
  },
  "language_info": {
   "codemirror_mode": {
    "name": "ipython",
    "version": 3
   },
   "file_extension": ".py",
   "mimetype": "text/x-python",
   "name": "python",
   "nbconvert_exporter": "python",
   "pygments_lexer": "ipython3",
   "version": "3.11.9"
  }
 },
 "nbformat": 4,
 "nbformat_minor": 2
}
