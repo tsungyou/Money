{
 "cells": [
  {
   "cell_type": "code",
   "execution_count": 1,
   "metadata": {},
   "outputs": [
    {
     "name": "stdout",
     "output_type": "stream",
     "text": [
      " 2019 20\n"
     ]
    },
    {
     "name": "stderr",
     "output_type": "stream",
     "text": [
      "Exception in Tkinter callback\n",
      "Traceback (most recent call last):\n",
      "  File \"/Library/Frameworks/Python.framework/Versions/3.11/lib/python3.11/tkinter/__init__.py\", line 1967, in __call__\n",
      "    return self.func(*args)\n",
      "           ^^^^^^^^^^^^^^^^\n",
      "  File \"/Users/test/Jimmy/tw-screener/tkinter/src/Strategy.py\", line 48, in on_factor_click\n",
      "    self.textbox.delete('', \"end\")\n",
      "  File \"/Library/Frameworks/Python.framework/Versions/3.11/lib/python3.11/site-packages/customtkinter/windows/widgets/ctk_textbox.py\", line 364, in delete\n",
      "    return self._textbox.delete(index1, index2)\n",
      "           ^^^^^^^^^^^^^^^^^^^^^^^^^^^^^^^^^^^^\n",
      "  File \"/Library/Frameworks/Python.framework/Versions/3.11/lib/python3.11/tkinter/__init__.py\", line 3689, in delete\n",
      "    self.tk.call(self._w, 'delete', index1, index2)\n",
      "_tkinter.TclError: bad text index \"\"\n",
      "Exception in Tkinter callback\n",
      "Traceback (most recent call last):\n",
      "  File \"/Library/Frameworks/Python.framework/Versions/3.11/lib/python3.11/tkinter/__init__.py\", line 1967, in __call__\n",
      "    return self.func(*args)\n",
      "           ^^^^^^^^^^^^^^^^\n",
      "  File \"/Users/test/Jimmy/tw-screener/tkinter/src/Strategy.py\", line 48, in on_factor_click\n",
      "    self.textbox.delete('', \"end\")\n",
      "  File \"/Library/Frameworks/Python.framework/Versions/3.11/lib/python3.11/site-packages/customtkinter/windows/widgets/ctk_textbox.py\", line 364, in delete\n",
      "    return self._textbox.delete(index1, index2)\n",
      "           ^^^^^^^^^^^^^^^^^^^^^^^^^^^^^^^^^^^^\n",
      "  File \"/Library/Frameworks/Python.framework/Versions/3.11/lib/python3.11/tkinter/__init__.py\", line 3689, in delete\n",
      "    self.tk.call(self._w, 'delete', index1, index2)\n",
      "_tkinter.TclError: bad text index \"\"\n",
      "Exception in Tkinter callback\n",
      "Traceback (most recent call last):\n",
      "  File \"/Library/Frameworks/Python.framework/Versions/3.11/lib/python3.11/tkinter/__init__.py\", line 1967, in __call__\n",
      "    return self.func(*args)\n",
      "           ^^^^^^^^^^^^^^^^\n",
      "  File \"/Users/test/Jimmy/tw-screener/tkinter/src/Strategy.py\", line 48, in on_factor_click\n",
      "    self.textbox.delete('', \"end\")\n",
      "  File \"/Library/Frameworks/Python.framework/Versions/3.11/lib/python3.11/site-packages/customtkinter/windows/widgets/ctk_textbox.py\", line 364, in delete\n",
      "    return self._textbox.delete(index1, index2)\n",
      "           ^^^^^^^^^^^^^^^^^^^^^^^^^^^^^^^^^^^^\n",
      "  File \"/Library/Frameworks/Python.framework/Versions/3.11/lib/python3.11/tkinter/__init__.py\", line 3689, in delete\n",
      "    self.tk.call(self._w, 'delete', index1, index2)\n",
      "_tkinter.TclError: bad text index \"\"\n"
     ]
    }
   ],
   "source": [
    "import customtkinter as ctk\n",
    "from src.Searcher import Searcher\n",
    "from src.Backtester import Backtester\n",
    "from src.Scraper import Scraper\n",
    "from src.Strategy import Strategy\n",
    "\n",
    "class App(ctk.CTk):\n",
    "    def __init__(self, *args, **kwargs):\n",
    "        super().__init__(*args, **kwargs)\n",
    "        \n",
    "        self.title(\"Stock Manager\")\n",
    "        self.geometry(\"1920x1080\")\n",
    "\n",
    "        # Create a Tabview\n",
    "        self.tabview = ctk.CTkTabview(self)\n",
    "        self.tabview.pack(expand=True, fill='both')\n",
    "\n",
    "        # Add tabs\n",
    "        self.tabview.add(\"Searcher\")\n",
    "        self.tabview.add(\"Scraper\")\n",
    "        self.tabview.add(\"Strategy\")\n",
    "        self.tabview.add(\"Screener\")\n",
    "\n",
    "        # Create and place pages inside tabs\n",
    "        self.home_page = Searcher(self.tabview.tab(\"Searcher\"))\n",
    "        self.home_page.pack(expand=True, fill='both')\n",
    "        \n",
    "\n",
    "        self.stock_info_page = Scraper(self.tabview.tab(\"Scraper\"))\n",
    "        self.stock_info_page.pack(expand=True, fill='both')\n",
    "\n",
    "        self.portfolio_page = Strategy(self.tabview.tab(\"Strategy\"))\n",
    "        self.portfolio_page.pack(expand=True, fill='both')\n",
    "        \n",
    "        self.settings_page = Backtester(self.tabview.tab(\"Screener\"))\n",
    "        self.settings_page.pack(expand=True, fill='both')\n",
    "    \n",
    "        self.protocol(\"WM_DELETE_WINDOW\", self.on_exit)\n",
    "\n",
    "    def on_exit(self):\n",
    "        self.destroy()\n",
    "        self.quit()\n",
    "        \n",
    "if __name__ == \"__main__\":\n",
    "    app = App()\n",
    "    app.mainloop()\n",
    "\n"
   ]
  }
 ],
 "metadata": {
  "kernelspec": {
   "display_name": "Python 3",
   "language": "python",
   "name": "python3"
  },
  "language_info": {
   "codemirror_mode": {
    "name": "ipython",
    "version": 3
   },
   "file_extension": ".py",
   "mimetype": "text/x-python",
   "name": "python",
   "nbconvert_exporter": "python",
   "pygments_lexer": "ipython3",
   "version": "3.11.9"
  }
 },
 "nbformat": 4,
 "nbformat_minor": 2
}
