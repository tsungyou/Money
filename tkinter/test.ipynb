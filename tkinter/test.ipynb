{
 "cells": [
  {
   "cell_type": "code",
   "execution_count": null,
   "metadata": {},
   "outputs": [],
   "source": [
    "import customtkinter as ctk\n",
    "from src.Searcher import Searcher\n",
    "from src.Backtester import Backtester\n",
    "from src.Scraper import Scraper\n",
    "from src.Strategy import Strategy\n",
    "\n",
    "class App(ctk.CTk):\n",
    "    def __init__(self, *args, **kwargs):\n",
    "        super().__init__(*args, **kwargs)\n",
    "        \n",
    "        self.title(\"Stock Manager\")\n",
    "        self.geometry(\"1920x1080\")\n",
    "\n",
    "        # Create a Tabview\n",
    "        self.tabview = ctk.CTkTabview(self)\n",
    "        self.tabview.pack(expand=True, fill='both')\n",
    "\n",
    "        # Add tabs\n",
    "        self.tabview.add(\"Searcher\")\n",
    "        self.tabview.add(\"Scraper\")\n",
    "        self.tabview.add(\"Factors\")\n",
    "        self.tabview.add(\"Backtest\")\n",
    "\n",
    "        # Create and place pages inside tabs\n",
    "        self.home_page = Searcher(self.tabview.tab(\"Searcher\"))\n",
    "        self.home_page.pack(expand=True, fill='both')\n",
    "        \n",
    "\n",
    "        self.stock_info_page = Scraper(self.tabview.tab(\"Scraper\"))\n",
    "        self.stock_info_page.pack(expand=True, fill='both')\n",
    "\n",
    "        self.portfolio_page = Strategy(self.tabview.tab(\"Factors\"))\n",
    "        self.portfolio_page.pack(expand=True, fill='both')\n",
    "        \n",
    "        self.settings_page = Backtester(self.tabview.tab(\"Backtest\"))\n",
    "        self.settings_page.pack(expand=True, fill='both')\n",
    "    \n",
    "        self.protocol(\"WM_DELETE_WINDOW\", self.on_exit)\n",
    "\n",
    "    def on_exit(self):\n",
    "        self.destroy()\n",
    "        self.quit()\n",
    "        \n",
    "if __name__ == \"__main__\":\n",
    "    app = App()\n",
    "    app.mainloop()\n",
    "\n"
   ]
  }
 ],
 "metadata": {
  "kernelspec": {
   "display_name": "Python 3",
   "language": "python",
   "name": "python3"
  },
  "language_info": {
   "codemirror_mode": {
    "name": "ipython",
    "version": 3
   },
   "file_extension": ".py",
   "mimetype": "text/x-python",
   "name": "python",
   "nbconvert_exporter": "python",
   "pygments_lexer": "ipython3",
   "version": "3.11.9"
  }
 },
 "nbformat": 4,
 "nbformat_minor": 2
}
