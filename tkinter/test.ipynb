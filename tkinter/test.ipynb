{
 "cells": [
  {
   "cell_type": "code",
   "execution_count": 1,
   "metadata": {},
   "outputs": [
    {
     "name": "stdout",
     "output_type": "stream",
     "text": [
      " 2019 20\n"
     ]
    },
    {
     "name": "stderr",
     "output_type": "stream",
     "text": [
      "2024-06-02 20:10:59.264 Python[3669:79660] TSM AdjustCapsLockLEDForKeyTransitionHandling - _ISSetPhysicalKeyboardCapsLockLED Inhibit\n"
     ]
    },
    {
     "name": "stdout",
     "output_type": "stream",
     "text": [
      "no symbol existed\n"
     ]
    },
    {
     "name": "stderr",
     "output_type": "stream",
     "text": [
      "Exception in Tkinter callback\n",
      "Traceback (most recent call last):\n",
      "  File \"/Library/Frameworks/Python.framework/Versions/3.11/lib/python3.11/tkinter/__init__.py\", line 1967, in __call__\n",
      "    return self.func(*args)\n",
      "           ^^^^^^^^^^^^^^^^\n",
      "  File \"/Users/test/Jimmy/tw-screener/tkinter/src/Strategy.py\", line 69, in on_tree_click\n",
      "    self.plotting(self.symbol.split(\".\")[0])\n",
      "  File \"/Users/test/Jimmy/tw-screener/tkinter/src/Strategy.py\", line 87, in plotting\n",
      "    df['ma'] = df['Close'].rolling(int(60)).mean()\n",
      "               ^^\n",
      "UnboundLocalError: cannot access local variable 'df' where it is not associated with a value\n",
      "Exception in Tkinter callback\n",
      "Traceback (most recent call last):\n",
      "  File \"/Library/Frameworks/Python.framework/Versions/3.11/lib/python3.11/tkinter/__init__.py\", line 1967, in __call__\n",
      "    return self.func(*args)\n",
      "           ^^^^^^^^^^^^^^^^\n",
      "  File \"/Users/test/Jimmy/tw-screener/tkinter/src/Strategy.py\", line 67, in on_tree_click\n",
      "    symbol = self.factor_selection_dataframe.item(item, \"values\")[0]\n",
      "             ~~~~~~~~~~~~~~~~~~~~~~~~~~~~~~~~~~~~~~~~~~~~~~~~~~~~^^^\n",
      "IndexError: string index out of range\n",
      "Exception in Tkinter callback\n",
      "Traceback (most recent call last):\n",
      "  File \"/Library/Frameworks/Python.framework/Versions/3.11/lib/python3.11/tkinter/__init__.py\", line 1967, in __call__\n",
      "    return self.func(*args)\n",
      "           ^^^^^^^^^^^^^^^^\n",
      "  File \"/Users/test/Jimmy/tw-screener/tkinter/src/Strategy.py\", line 51, in on_factor_click\n",
      "    factor_name = self.factor_dataframe.item(item, \"values\")[0]\n",
      "                  ~~~~~~~~~~~~~~~~~~~~~~~~~~~~~~~~~~~~~~~~~~^^^\n",
      "IndexError: string index out of range\n",
      "/Users/test/Jimmy/tw-screener/tkinter/src/Scraper.py:94: RuntimeWarning: More than 20 figures have been opened. Figures created through the pyplot interface (`matplotlib.pyplot.figure`) are retained until explicitly closed and may consume too much memory. (To control this warning, see the rcParam `figure.max_open_warning`). Consider using `matplotlib.pyplot.close()`.\n",
      "  fig, ax = plt.subplots()\n"
     ]
    }
   ],
   "source": [
    "import customtkinter as ctk\n",
    "from src.Searcher import Searcher\n",
    "from src.Backtester import Backtester\n",
    "from src.Scraper import Scraper\n",
    "from src.Strategy import Strategy\n",
    "\n",
    "class App(ctk.CTk):\n",
    "    def __init__(self, *args, **kwargs):\n",
    "        super().__init__(*args, **kwargs)\n",
    "        \n",
    "        self.title(\"Stock Manager\")\n",
    "        self.geometry(\"1920x1080\")\n",
    "\n",
    "        # Create a Tabview\n",
    "        self.tabview = ctk.CTkTabview(self)\n",
    "        self.tabview.pack(expand=True, fill='both')\n",
    "\n",
    "\n",
    "        # Add tabs\n",
    "        self.tabview.add(\"代號搜尋\")\n",
    "        self.tabview.add(\"單日漲跌幅\")\n",
    "\n",
    "        self.tabview.add(\"策略因子\")\n",
    "        self.tabview.add(\"回測平台\")\n",
    "        # Create and place pages inside tabs\n",
    "        self.home_page = Searcher(self.tabview.tab(\"代號搜尋\"))\n",
    "        self.home_page.pack(expand=True, fill='both')\n",
    "        \n",
    "\n",
    "        self.stock_info_page = Scraper(self.tabview.tab(\"單日漲跌幅\"))\n",
    "        self.stock_info_page.pack(expand=True, fill='both')\n",
    "\n",
    "        self.portfolio_page = Strategy(self.tabview.tab(\"策略因子\"))\n",
    "        self.portfolio_page.pack(expand=True, fill='both')\n",
    "        \n",
    "        self.settings_page = Backtester(self.tabview.tab(\"回測平台\"))\n",
    "        self.settings_page.pack(expand=True, fill='both')\n",
    "    \n",
    "        self.protocol(\"WM_DELETE_WINDOW\", self.on_exit)\n",
    "\n",
    "    def on_exit(self):\n",
    "        self.destroy()\n",
    "        self.quit()\n",
    "        \n",
    "if __name__ == \"__main__\":\n",
    "    app = App()\n",
    "    app.mainloop()\n",
    "\n"
   ]
  }
 ],
 "metadata": {
  "kernelspec": {
   "display_name": "Python 3",
   "language": "python",
   "name": "python3"
  },
  "language_info": {
   "codemirror_mode": {
    "name": "ipython",
    "version": 3
   },
   "file_extension": ".py",
   "mimetype": "text/x-python",
   "name": "python",
   "nbconvert_exporter": "python",
   "pygments_lexer": "ipython3",
   "version": "3.11.9"
  }
 },
 "nbformat": 4,
 "nbformat_minor": 2
}
