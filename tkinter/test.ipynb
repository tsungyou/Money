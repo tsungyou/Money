{
 "cells": [
  {
   "cell_type": "code",
   "execution_count": 1,
   "metadata": {},
   "outputs": [
    {
     "name": "stdout",
     "output_type": "stream",
     "text": [
      " 2019 20\n"
     ]
    },
    {
     "name": "stderr",
     "output_type": "stream",
     "text": [
      "/Users/test/Jimmy/tw-screener/tkinter/src/Scraper.py:94: RuntimeWarning: More than 20 figures have been opened. Figures created through the pyplot interface (`matplotlib.pyplot.figure`) are retained until explicitly closed and may consume too much memory. (To control this warning, see the rcParam `figure.max_open_warning`). Consider using `matplotlib.pyplot.close()`.\n",
      "  fig, ax = plt.subplots()\n"
     ]
    }
   ],
   "source": [
    "import customtkinter as ctk\n",
    "from src.Searcher import Searcher\n",
    "from src.Screener import Screener\n",
    "from src.Scraper import Scraper\n",
    "from src.Strategy import Strategy\n",
    "\n",
    "\n",
    "\n",
    "\n",
    "class App(ctk.CTk):\n",
    "    def __init__(self, *args, **kwargs):\n",
    "        super().__init__(*args, **kwargs)\n",
    "        \n",
    "        self.title(\"Stock Manager\")\n",
    "        self.geometry(\"1920x1080\")\n",
    "\n",
    "        # Create a Tabview\n",
    "        self.tabview = ctk.CTkTabview(self)\n",
    "        self.tabview.pack(expand=True, fill='both')\n",
    "\n",
    "        # Add tabs\n",
    "        self.tabview.add(\"Searcher\")\n",
    "        self.tabview.add(\"Scraper\")\n",
    "        self.tabview.add(\"Strategy\")\n",
    "        self.tabview.add(\"Screener\")\n",
    "\n",
    "        # Create and place pages inside tabs\n",
    "        self.home_page = Searcher(self.tabview.tab(\"Searcher\"))\n",
    "        self.home_page.pack(expand=True, fill='both')\n",
    "        \n",
    "\n",
    "        self.stock_info_page = Scraper(self.tabview.tab(\"Scraper\"))\n",
    "        self.stock_info_page.pack(expand=True, fill='both')\n",
    "\n",
    "        self.portfolio_page = Strategy(self.tabview.tab(\"Strategy\"))\n",
    "        self.portfolio_page.pack(expand=True, fill='both')\n",
    "        \n",
    "        self.settings_page = Screener(self.tabview.tab(\"Screener\"))\n",
    "        self.settings_page.pack(expand=True, fill='both')\n",
    "    \n",
    "        self.protocol(\"WM_DELETE_WINDOW\", self.on_exit)\n",
    "\n",
    "    def on_exit(self):\n",
    "        self.destroy()\n",
    "        self.quit()\n",
    "        \n",
    "if __name__ == \"__main__\":\n",
    "    app = App()\n",
    "    app.mainloop()\n",
    "\n"
   ]
  }
 ],
 "metadata": {
  "kernelspec": {
   "display_name": "Python 3",
   "language": "python",
   "name": "python3"
  },
  "language_info": {
   "codemirror_mode": {
    "name": "ipython",
    "version": 3
   },
   "file_extension": ".py",
   "mimetype": "text/x-python",
   "name": "python",
   "nbconvert_exporter": "python",
   "pygments_lexer": "ipython3",
   "version": "3.11.9"
  }
 },
 "nbformat": 4,
 "nbformat_minor": 2
}
